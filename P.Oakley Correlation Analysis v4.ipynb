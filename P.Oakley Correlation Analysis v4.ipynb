{
 "cells": [
  {
   "attachments": {},
   "cell_type": "markdown",
   "metadata": {},
   "source": [
    "# Imports"
   ]
  },
  {
   "cell_type": "code",
   "execution_count": null,
   "metadata": {},
   "outputs": [],
   "source": [
    "# import necessary python libraries and modules\n",
    "import pandas as pd\n",
    "import numpy as np\n",
    "import matplotlib.pyplot as plt\n",
    "from statsmodels.tsa.stattools import adfuller\n",
    "from statsmodels.graphics.tsaplots import plot_acf, plot_pacf\n",
    "from statsmodels.tsa.arima.model import ARIMA\n",
    "from statsmodels.tsa.holtwinters import ExponentialSmoothing\n",
    "from statsmodels.tsa.seasonal import seasonal_decompose\n",
    "import statsmodels.api as sm\n",
    "from scipy.stats import pearsonr\n",
    "import datetime as dt\n",
    "import seaborn as sns"
   ]
  },
  {
   "attachments": {},
   "cell_type": "markdown",
   "metadata": {},
   "source": [
    "# Load Data"
   ]
  },
  {
   "attachments": {},
   "cell_type": "markdown",
   "metadata": {},
   "source": [
    "##### Monthly Ocrolus Volume and Active Company Counts"
   ]
  },
  {
   "cell_type": "code",
   "execution_count": null,
   "metadata": {},
   "outputs": [],
   "source": [
    "# Load data\n",
    "data = pd.read_csv('Monthly Volume and Company Count.csv', parse_dates=['Month'])\n",
    "data['Month'] = pd.to_datetime(data['Month'])\n",
    "data['EOMONTH'] = pd.to_datetime(data['EOMONTH'])\n",
    "data.head()"
   ]
  },
  {
   "attachments": {},
   "cell_type": "markdown",
   "metadata": {},
   "source": [
    "##### Customer Level Ocrolus Data"
   ]
  },
  {
   "cell_type": "code",
   "execution_count": null,
   "metadata": {},
   "outputs": [],
   "source": [
    "# Load data\n",
    "data1 = pd.read_csv('Clean Customer Data.csv', parse_dates=['Month'])\n",
    "data1['Month'] = pd.to_datetime(data1['Month'])\n",
    "data1['EOMONTH'] = pd.to_datetime(data1['EOMONTH'])\n",
    "data1.head()"
   ]
  },
  {
   "attachments": {},
   "cell_type": "markdown",
   "metadata": {},
   "source": [
    "##### Monthly Correlation Metrics"
   ]
  },
  {
   "cell_type": "code",
   "execution_count": null,
   "metadata": {},
   "outputs": [],
   "source": [
    "# Load data\n",
    "data2 = pd.read_csv('Monthly Correlation Metrics.csv', parse_dates=['Month'])\n",
    "data2['Month'] = pd.to_datetime(data2['Month'])\n",
    "data2['EOMONTH'] = pd.to_datetime(data2['EOMONTH'])\n",
    "data2 = data2.sort_values(by=['Month'])\n",
    "data2['Month'] = data2['Month'].shift(-1)\n",
    "data2"
   ]
  },
  {
   "attachments": {},
   "cell_type": "markdown",
   "metadata": {},
   "source": [
    "##### Monthly Ocrolus S&M Spend"
   ]
  },
  {
   "cell_type": "code",
   "execution_count": null,
   "metadata": {},
   "outputs": [],
   "source": [
    "# Load data\n",
    "data3 = pd.read_csv('P.Oakley Sales and Marketing Spend.csv', parse_dates=['Month'])\n",
    "data3['Total S_M Spend'] = data3['Total S_M Spend'].apply(lambda x: float(x)*1000)\n",
    "data3['Month'] = pd.to_datetime(data3['Month'])\n",
    "data3 = data3.sort_values(by=['Month'])\n",
    "data3['Month'] = data3['Month'].shift(-1)\n",
    "data3.set_index('Month', inplace=True)\n",
    "d3 = data3[['Total S_M Spend']]\n",
    "d3.head()"
   ]
  },
  {
   "attachments": {},
   "cell_type": "markdown",
   "metadata": {},
   "source": [
    "##### Existing Account Monthly Ocrolus S&M Spend"
   ]
  },
  {
   "cell_type": "code",
   "execution_count": null,
   "metadata": {},
   "outputs": [],
   "source": [
    "# Load data\n",
    "data4 = pd.read_csv('Existing S&M Spend.csv', parse_dates=['Date'])\n",
    "data4['Sales Team Farmer Expense'] = data4['Sales Team Farmer Expense'].apply(lambda x: float(x)*1000)\n",
    "data4['Account Management'] = data4['Account Management'].apply(lambda x: float(x)*1000)\n",
    "data4['Date'] = pd.to_datetime(data4['Date'])\n",
    "data4 = data4.sort_values(by=['Date'])\n",
    "data4['Date'] = data4['Date'].shift(-1)\n",
    "data4.set_index('Date', inplace=True)\n",
    "data4.drop(columns=['Unnamed: 3'], inplace=True)\n",
    "data4.head()"
   ]
  },
  {
   "attachments": {},
   "cell_type": "markdown",
   "metadata": {},
   "source": [
    "##### Combined Dataset: Monthly Ocrolus Volume and Active Company Counts + Monthly Correlation Metrics (1M Lag)"
   ]
  },
  {
   "cell_type": "code",
   "execution_count": null,
   "metadata": {},
   "outputs": [],
   "source": [
    "# Join dataframes on month, drop null values (1st row due to 1m lag on correlation metrics), and create average volume per customer variable\n",
    "df = pd.merge(data, data2, left_on='Month', right_on=\"Month\")\n",
    "df['Month'] = pd.to_datetime(df['Month'])\n",
    "df['EOMONTH_x'] = pd.to_datetime(df['EOMONTH_x'])\n",
    "df['EOMONTH_y'] = pd.to_datetime(df['EOMONTH_y'])\n",
    "df.set_index('Month', inplace=True)\n",
    "df.dropna(inplace=True)\n",
    "df = df.sort_index()\n",
    "df['Avg Vol Per Customer'] = df['Volume']/df['Active Customer Count']\n",
    "df"
   ]
  },
  {
   "cell_type": "code",
   "execution_count": null,
   "metadata": {},
   "outputs": [],
   "source": [
    "# Basic info on dataframe structure\n",
    "df.info()"
   ]
  },
  {
   "attachments": {},
   "cell_type": "markdown",
   "metadata": {},
   "source": [
    "##### Combined Dataset With Volume % Change Variable "
   ]
  },
  {
   "cell_type": "code",
   "execution_count": null,
   "metadata": {},
   "outputs": [],
   "source": [
    "# Create new dataframe with volume percent change variable\n",
    "dfg = df\n",
    "dfg['Volume_Change'] = dfg['Volume'].pct_change()*100\n",
    "dfg.dropna(inplace=True)\n",
    "dfg"
   ]
  },
  {
   "attachments": {},
   "cell_type": "markdown",
   "metadata": {},
   "source": [
    "##### Combined Dataset With S&M Spend and US Prime Rate"
   ]
  },
  {
   "cell_type": "code",
   "execution_count": null,
   "metadata": {},
   "outputs": [],
   "source": [
    "# Create dataframe with Total S&M Spend, US Prime Rate, Volume, and Volume % Change\n",
    "ust = pd.merge(d3,df, left_index=True, right_index=True, how='inner')\n",
    "ust['Volume_Change'] = ust['Volume'].pct_change()*100\n",
    "ust.dropna(inplace=True)\n",
    "ust = ust[['Volume_Change', 'Volume','Total S_M Spend', 'US_Prime_Rate']]\n",
    "ust['US_Prime_Rate'] = ust['US_Prime_Rate']*100\n",
    "ust"
   ]
  },
  {
   "attachments": {},
   "cell_type": "markdown",
   "metadata": {},
   "source": [
    "##### Combined Dataset with Existing Account Related S&M and US Prime Rate"
   ]
  },
  {
   "cell_type": "code",
   "execution_count": null,
   "metadata": {},
   "outputs": [],
   "source": [
    "# Create dataframe with Existing Account Related S&M Spend, US Prime Rate, Volume, and Volume % Change\n",
    "esm = pd.merge(data4,df, left_index=True, right_index=True, how='inner')\n",
    "esm['Volume_Change'] = esm['Volume'].pct_change()*100\n",
    "esm.dropna(inplace=True)\n",
    "esm['Total Existing Account S&M'] = esm['Sales Team Farmer Expense'] + esm['Account Management']\n",
    "esm = esm[['Volume_Change', 'Volume','Sales Team Farmer Expense', 'Account Management', 'Total Existing Account S&M', 'US_Prime_Rate']]\n",
    "esm['US_Prime_Rate'] = esm['US_Prime_Rate']*100\n",
    "esm"
   ]
  },
  {
   "cell_type": "code",
   "execution_count": null,
   "metadata": {},
   "outputs": [],
   "source": [
    "# Create Percent Change dataframe\n",
    "cesm = pd.merge(data4,df, left_index=True, right_index=True, how='inner')\n",
    "cesm['Volume_Change'] = esm['Volume'].pct_change()*100\n",
    "cesm['Total Existing Account S&M'] = cesm['Sales Team Farmer Expense'] + cesm['Account Management']\n",
    "cesm['Total Existing Account S&M % Change'] = cesm['Total Existing Account S&M'].pct_change()*100\n",
    "cesm['US_Prime_Rate % Change'] = cesm['US_Prime_Rate'].pct_change()*100\n",
    "cesm['Sales Team Farmer Expense % Change'] = cesm['Sales Team Farmer Expense'].pct_change()*100\n",
    "cesm['Account Management % Change'] = cesm['Account Management'].pct_change()*100\n",
    "cesm.dropna(inplace=True)\n",
    "cesm = cesm[['Volume_Change', 'Total Existing Account S&M % Change', 'US_Prime_Rate % Change', 'Sales Team Farmer Expense % Change', 'Account Management % Change']]\n",
    "cesm"
   ]
  },
  {
   "attachments": {},
   "cell_type": "markdown",
   "metadata": {},
   "source": [
    "##### Create dataframe of monthly volume by cohort month"
   ]
  },
  {
   "cell_type": "code",
   "execution_count": null,
   "metadata": {},
   "outputs": [],
   "source": [
    "# Load data\n",
    "dc = pd.read_csv('Cohort Correlations v1.csv', parse_dates=['Month'])\n",
    "dc['Month'] = pd.to_datetime(dc['Month'])\n",
    "dc.set_index('Month', inplace=True)"
   ]
  },
  {
   "attachments": {},
   "cell_type": "markdown",
   "metadata": {},
   "source": [
    "# Initial Linear Regressions"
   ]
  },
  {
   "attachments": {},
   "cell_type": "markdown",
   "metadata": {},
   "source": [
    "##### Simple Least Squares Regression of Volume % Change to Inspect General Growth Trend"
   ]
  },
  {
   "cell_type": "code",
   "execution_count": null,
   "metadata": {},
   "outputs": [],
   "source": [
    "# Linear regression: Dependent variable = Ocrolus Volume Percent Change; Independent variables = Time (in months) - to inspect general growth trend\n",
    "X = pd.to_numeric(dfg.index).values.reshape(-1,1)\n",
    "y = dfg['Volume_Change']\n",
    "X = sm.add_constant(X)\n",
    "model=sm.OLS(y,X)\n",
    "results = model.fit()\n",
    "print(results.summary())"
   ]
  },
  {
   "attachments": {},
   "cell_type": "markdown",
   "metadata": {},
   "source": [
    "##### Simple Least Squares Regression of Volume to Inspect General Growth Trend"
   ]
  },
  {
   "cell_type": "code",
   "execution_count": null,
   "metadata": {},
   "outputs": [],
   "source": [
    "# Linear regression: Dependent variable = Ocrolus Volume; Independent variables = Time (in months) - to inspect general growth trend\n",
    "X = pd.to_numeric(df.index).values.reshape(-1,1)\n",
    "y = df['Volume']\n",
    "X = sm.add_constant(X)\n",
    "model=sm.OLS(y,X)\n",
    "results = model.fit()\n",
    "print(results.summary())"
   ]
  },
  {
   "attachments": {},
   "cell_type": "markdown",
   "metadata": {},
   "source": [
    "# Signal Decomposition Analysis"
   ]
  },
  {
   "cell_type": "code",
   "execution_count": null,
   "metadata": {},
   "outputs": [],
   "source": [
    "# Perform Holt-Winters decomposition\n",
    "result = seasonal_decompose(df['Volume'], model='additive', extrapolate_trend='freq')"
   ]
  },
  {
   "cell_type": "code",
   "execution_count": null,
   "metadata": {},
   "outputs": [],
   "source": [
    "# Extract trend, seasonal, and residual components\n",
    "trend = result.trend\n",
    "seasonal = result.seasonal\n",
    "residual = result.resid"
   ]
  },
  {
   "cell_type": "code",
   "execution_count": null,
   "metadata": {},
   "outputs": [],
   "source": [
    "trend"
   ]
  },
  {
   "cell_type": "code",
   "execution_count": null,
   "metadata": {},
   "outputs": [],
   "source": [
    "seasonal"
   ]
  },
  {
   "cell_type": "code",
   "execution_count": null,
   "metadata": {},
   "outputs": [],
   "source": [
    "residual"
   ]
  },
  {
   "cell_type": "code",
   "execution_count": null,
   "metadata": {},
   "outputs": [],
   "source": [
    "# Create dataframe with residual portion of volume data and monthly correlation metrics (multiplied by 100 for rate %s)\n",
    "corrdf = pd.merge(residual.dropna(), df, left_index=True, right_index=True, how='inner')\n",
    "corrdf['Fed_Funds_Target_Rate'] = corrdf['Fed_Funds_Target_Rate']*100\n",
    "corrdf['LIBOR___3_Month'] = corrdf['LIBOR___3_Month']*100\n",
    "corrdf['United_States_Treasury_Constant_Maturity___1_Year'] = corrdf['United_States_Treasury_Constant_Maturity___1_Year']*100\n",
    "corrdf['United_States_Treasury_Constant_Maturity___5_Year'] = corrdf['United_States_Treasury_Constant_Maturity___5_Year']*100\n",
    "corrdf['United_States_Treasury_Constant_Maturity___10_Year'] = corrdf['United_States_Treasury_Constant_Maturity___10_Year']*100\n",
    "corrdf['United_States_Treasury_Constant_Maturity___30_Year'] = corrdf['United_States_Treasury_Constant_Maturity___30_Year']*100\n",
    "corrdf['US_Prime_Rate'] = corrdf['US_Prime_Rate']*100\n",
    "corrdf.head()"
   ]
  },
  {
   "cell_type": "code",
   "execution_count": null,
   "metadata": {},
   "outputs": [],
   "source": [
    "# Create dataframe with trend portion of volume data and monthly Existing Account S&M expenses\n",
    "trd = pd.merge(trend.dropna(), esm, left_index=True, right_index=True, how='inner')\n",
    "trd"
   ]
  },
  {
   "cell_type": "code",
   "execution_count": null,
   "metadata": {},
   "outputs": [],
   "source": [
    "# Create dataframe with trend portion of volume data and monthly Total S&M spend\n",
    "srd = pd.merge(trend.dropna(), d3, left_index=True, right_index=True, how='inner')\n",
    "srd"
   ]
  },
  {
   "cell_type": "code",
   "execution_count": null,
   "metadata": {},
   "outputs": [],
   "source": [
    "# Calculate correlation between residual component and Fed Funds Target Rate\n",
    "correlation, p_value = pearsonr(residual.dropna(), corrdf['Fed_Funds_Target_Rate'])\n",
    "print(f\"Correlation between residual component and the fed funds target rate: {correlation:.6f}\")\n",
    "print(f\"P-value: {p_value:.6f}\")"
   ]
  },
  {
   "cell_type": "code",
   "execution_count": null,
   "metadata": {},
   "outputs": [],
   "source": [
    "# Calculate correlation between residual component and US Prime Rate\n",
    "correlation, p_value = pearsonr(residual.dropna(), corrdf['US_Prime_Rate'])\n",
    "print(f\"Correlation between residual component and the US prime rate: {correlation:.6f}\")\n",
    "print(f\"P-value: {p_value:.6f}\")"
   ]
  },
  {
   "cell_type": "code",
   "execution_count": null,
   "metadata": {},
   "outputs": [],
   "source": [
    "# Calculate correlation between residual component and LIBOR 3M Rate\n",
    "correlation, p_value = pearsonr(residual.dropna(), corrdf['LIBOR___3_Month'])\n",
    "print(f\"Correlation between residual component and the LIBOR 3 Month Rate: {correlation:.3f}\")\n",
    "print(f\"P-value: {p_value:.5f}\")"
   ]
  },
  {
   "cell_type": "code",
   "execution_count": null,
   "metadata": {},
   "outputs": [],
   "source": [
    "# Calculate correlation between residual component and US Treasury Constant Maturity 1 Year\n",
    "correlation, p_value = pearsonr(residual.dropna(), corrdf['United_States_Treasury_Constant_Maturity___1_Year'])\n",
    "print(f\"Correlation between residual component and the US Treasury Constant Maturity 1 Year: {correlation:.3f}\")\n",
    "print(f\"P-value: {p_value:.5f}\")"
   ]
  },
  {
   "cell_type": "code",
   "execution_count": null,
   "metadata": {},
   "outputs": [],
   "source": [
    "# Calculate correlation between residual component and US Treasury Constant Maturity 5 Year\n",
    "correlation, p_value = pearsonr(residual.dropna(), corrdf['United_States_Treasury_Constant_Maturity___5_Year'])\n",
    "print(f\"Correlation between residual component and the US Treasury Constant Maturity 5 Year: {correlation:.3f}\")\n",
    "print(f\"P-value: {p_value:.5f}\")"
   ]
  },
  {
   "cell_type": "code",
   "execution_count": null,
   "metadata": {},
   "outputs": [],
   "source": [
    "# Calculate correlation between residual component and US Treasury Constant Maturity 10 Year\n",
    "correlation, p_value = pearsonr(residual.dropna(), corrdf['United_States_Treasury_Constant_Maturity___10_Year'])\n",
    "print(f\"Correlation between residual component and the US Treasury Constant Maturity 10 Year: {correlation:.3f}\")\n",
    "print(f\"P-value: {p_value:.5f}\")"
   ]
  },
  {
   "cell_type": "code",
   "execution_count": null,
   "metadata": {},
   "outputs": [],
   "source": [
    "# Calculate correlation between residual component and US Treasury Constant Maturity 30 Year\n",
    "correlation, p_value = pearsonr(residual.dropna(), corrdf['United_States_Treasury_Constant_Maturity___30_Year'])\n",
    "print(f\"Correlation between residual component and the US Treasury Constant Maturity 30 Year: {correlation:.3f}\")\n",
    "print(f\"P-value: {p_value:.5f}\")"
   ]
  },
  {
   "cell_type": "code",
   "execution_count": null,
   "metadata": {},
   "outputs": [],
   "source": [
    "# Calculate correlation between trend component and Account Management S&M spend (1M lag)\n",
    "correlation, p_value = pearsonr(trd['trend'], trd['Account Management'])\n",
    "print(f\"Correlation between trend component and the Existing Account S&M Spend: {correlation:.3f}\")\n",
    "print(f\"P-value: {p_value:.10f}\")\n",
    "# Note: Total Existing S&M spend was tried as well as just sales team farmer expense and lowered correlation"
   ]
  },
  {
   "attachments": {},
   "cell_type": "markdown",
   "metadata": {},
   "source": [
    "# Regression Analyses"
   ]
  },
  {
   "attachments": {},
   "cell_type": "markdown",
   "metadata": {},
   "source": [
    "##### Linear Regression Showing Impact of US Prime Rate on Residual Component of Ocrolus Volume (Signal Decomposed Volume)"
   ]
  },
  {
   "cell_type": "code",
   "execution_count": null,
   "metadata": {},
   "outputs": [],
   "source": [
    "# Linear regression: Dependent variable = Residual Ocrolus Volume (seasonality and trend removed); Independent variable = US Prime Rate\n",
    "X = corrdf['US_Prime_Rate']\n",
    "y = residual.dropna()\n",
    "X = sm.add_constant(X)\n",
    "model=sm.OLS(y,X)\n",
    "results = model.fit()\n",
    "print(results.summary())\n",
    "# Key takeaways:\n",
    "    # The US Prime Rate has a significant negative correlation with the residual component of Ocrolus Volume\n",
    "    # US Prime Rate does not have a significant correlation with overall volume (trend in overall platform growth clouds relationship between US Prime Rate and Volume)"
   ]
  },
  {
   "attachments": {},
   "cell_type": "markdown",
   "metadata": {},
   "source": [
    "##### Linear regression showing relationship between Account Management Spend and the underlying trend in Ocrolus Volume"
   ]
  },
  {
   "cell_type": "code",
   "execution_count": null,
   "metadata": {},
   "outputs": [],
   "source": [
    "# Linear regression: Dependent variable = Trend Ocrolus Volume (seasonality and residual removed); Independent variable = Account Management Expenses\n",
    "X = trd['Account Management']\n",
    "y = trd['trend']\n",
    "X = sm.add_constant(X)\n",
    "model=sm.OLS(y,X)\n",
    "results = model.fit()\n",
    "print(results.summary())\n",
    "# Key takeaways:\n",
    "    # The spend on account amnagement has a significant positive correlation with the trend component of Ocrolus Volume"
   ]
  },
  {
   "attachments": {},
   "cell_type": "markdown",
   "metadata": {},
   "source": [
    "##### Linear regression showing relationship between Total S_M Spend and the underlying trend in Ocrolus Volume"
   ]
  },
  {
   "cell_type": "code",
   "execution_count": null,
   "metadata": {},
   "outputs": [],
   "source": [
    "# Linear regression: Dependent variable = Trend Ocrolus Volume (seasonality and residual removed); Independent variable = Total S_M spend\n",
    "X = srd['Total S_M Spend']\n",
    "y = srd['trend']\n",
    "X = sm.add_constant(X)\n",
    "model=sm.OLS(y,X)\n",
    "results = model.fit()\n",
    "print(results.summary())\n",
    "# Key takeaways:\n",
    "    # The spend on sales and marketing has a significant positive correlation with the trend component of Ocrolus Volume"
   ]
  },
  {
   "attachments": {},
   "cell_type": "markdown",
   "metadata": {},
   "source": [
    "##### Linear Regression Showing Impact of US Prime Rate on Ocrolus Volume"
   ]
  },
  {
   "cell_type": "code",
   "execution_count": null,
   "metadata": {},
   "outputs": [],
   "source": [
    "# Multiple Linear regression: Dependent variable = Ocrolus Volume; Independent variable = US Prime Rate\n",
    "X = ust['US_Prime_Rate']\n",
    "y = ust['Volume']\n",
    "X = sm.add_constant(X)\n",
    "model=sm.OLS(y,X)\n",
    "results = model.fit()\n",
    "print(results.summary())"
   ]
  },
  {
   "attachments": {},
   "cell_type": "markdown",
   "metadata": {},
   "source": [
    "##### Linear Regression Showing Impact of US Prime Rate on Percent Change in Ocrolus Volume"
   ]
  },
  {
   "cell_type": "code",
   "execution_count": null,
   "metadata": {},
   "outputs": [],
   "source": [
    "# Multiple Linear regression: Dependent variable = Ocrolus Volume % Change; Independent variable = US Prime Rate\n",
    "X = ust['US_Prime_Rate']\n",
    "y = ust['Volume_Change']\n",
    "X = sm.add_constant(X)\n",
    "model=sm.OLS(y,X)\n",
    "results = model.fit()\n",
    "print(results.summary())"
   ]
  },
  {
   "attachments": {},
   "cell_type": "markdown",
   "metadata": {},
   "source": [
    "##### Linear Regression Showing Impact of S&M Spend and US Prime Rate on Ocrolus Volume"
   ]
  },
  {
   "cell_type": "code",
   "execution_count": null,
   "metadata": {},
   "outputs": [],
   "source": [
    "# Multiple Linear regression: Dependent variable = Ocrolus Volume; Independent variables = Total S&M Spend and US Prime Rate\n",
    "X = ust[['Total S_M Spend', 'US_Prime_Rate']]\n",
    "y = ust['Volume']\n",
    "X = sm.add_constant(X)\n",
    "model=sm.OLS(y,X)\n",
    "results = model.fit()\n",
    "print(results.summary())\n",
    "# Key Takeaways:\n",
    "    # Volume is dependent on Total S&M Spend and US Prime Rate (this includes the impact on volume from new customers) "
   ]
  },
  {
   "attachments": {},
   "cell_type": "markdown",
   "metadata": {},
   "source": [
    "##### Linear Regression Showing Impact of Existing Account Related S&M Spend on Ocrolus Volume"
   ]
  },
  {
   "cell_type": "code",
   "execution_count": null,
   "metadata": {},
   "outputs": [],
   "source": [
    "# Multiple Linear regression: Dependent variable = Ocrolus Volume; Independent variables = Sales Team Farmer and Account Management Expenses\n",
    "X = esm[['Sales Team Farmer Expense', 'Account Management']]\n",
    "y = esm['Volume']\n",
    "X = sm.add_constant(X)\n",
    "model=sm.OLS(y,X)\n",
    "results = model.fit()\n",
    "print(results.summary())"
   ]
  },
  {
   "attachments": {},
   "cell_type": "markdown",
   "metadata": {},
   "source": [
    "##### Linear Regression Showing Impact of Total Existing Account Related S&M Spend on Ocrolus Volume"
   ]
  },
  {
   "cell_type": "code",
   "execution_count": null,
   "metadata": {},
   "outputs": [],
   "source": [
    "# Multiple Linear regression: Dependent variable = Ocrolus Volume; Independent variable = Total S&M Spend Related to Existing Accounts\n",
    "X = esm['Total Existing Account S&M']\n",
    "y = esm['Volume']\n",
    "X = sm.add_constant(X)\n",
    "model=sm.OLS(y,X)\n",
    "results = model.fit()\n",
    "print(results.summary())"
   ]
  },
  {
   "attachments": {},
   "cell_type": "markdown",
   "metadata": {},
   "source": [
    "##### Linear Regression Showing Impact of Existing Account Related S&M Spend on % Change in Ocrolus Volume"
   ]
  },
  {
   "cell_type": "code",
   "execution_count": null,
   "metadata": {},
   "outputs": [],
   "source": [
    "# Multiple Linear regression: Dependent variable = Ocrolus Volume % Change; Independent variables = Sales Team Farmer and Account Management Expenses\n",
    "X = esm[['Sales Team Farmer Expense', 'Account Management']]\n",
    "y = esm['Volume_Change']\n",
    "X = sm.add_constant(X)\n",
    "model=sm.OLS(y,X)\n",
    "results = model.fit()\n",
    "print(results.summary())"
   ]
  },
  {
   "attachments": {},
   "cell_type": "markdown",
   "metadata": {},
   "source": [
    "##### Linear Regression Showing Impact of Account Management Expense on Volume % Change"
   ]
  },
  {
   "cell_type": "code",
   "execution_count": null,
   "metadata": {},
   "outputs": [],
   "source": [
    "# Multiple Linear regression: Dependent variable = Ocrolus Volume % Change; Independent variables = Account Management Expenses\n",
    "X = esm['Account Management']\n",
    "y = esm['Volume_Change']\n",
    "X = sm.add_constant(X)\n",
    "model=sm.OLS(y,X)\n",
    "results = model.fit()\n",
    "print(results.summary())\n",
    "# Key Takeaways:\n",
    "    # Existing Account related S&M spend is slightly more related to % volume change than nominal volume amount\n",
    "    # Although significant at 0.1 alpha level when included with sales team farmer expenses, account management expenses alone are not significant"
   ]
  },
  {
   "attachments": {},
   "cell_type": "markdown",
   "metadata": {},
   "source": [
    "##### Linear Regression Showing Impact of Total Existing Account Related S&M Spend on % Change in Ocrolus Volume"
   ]
  },
  {
   "cell_type": "code",
   "execution_count": null,
   "metadata": {},
   "outputs": [],
   "source": [
    "# Multiple Linear regression: Dependent variable = Ocrolus Volume Percent Change; Independent variable = Total S&M Spend Related to Existing Accounts\n",
    "X = esm['Total Existing Account S&M']\n",
    "y = esm['Volume_Change']\n",
    "X = sm.add_constant(X)\n",
    "model=sm.OLS(y,X)\n",
    "results = model.fit()\n",
    "print(results.summary())"
   ]
  },
  {
   "attachments": {},
   "cell_type": "markdown",
   "metadata": {},
   "source": [
    "##### Linear Regression Showing Impact of Existing Account Related S&M Spend and US Prime Rate on Ocrolus Volume"
   ]
  },
  {
   "cell_type": "code",
   "execution_count": null,
   "metadata": {},
   "outputs": [],
   "source": [
    "# Multiple Linear regression: Dependent variable = Ocrolus Volume; Independent variables = US Prime Rate and Account Management Expenses\n",
    "X = esm[['Account Management', 'US_Prime_Rate']]\n",
    "y = esm['Volume']\n",
    "X = sm.add_constant(X)\n",
    "model=sm.OLS(y,X)\n",
    "results = model.fit()\n",
    "print(results.summary())\n",
    "# Note: Adding Sales Farmer expense lowers significance"
   ]
  },
  {
   "attachments": {},
   "cell_type": "markdown",
   "metadata": {},
   "source": [
    "##### Linear Regression Showing Impact of Total Existing Account S&M Spend and US Prime Rate on Ocrolus Volume"
   ]
  },
  {
   "cell_type": "code",
   "execution_count": null,
   "metadata": {},
   "outputs": [],
   "source": [
    "# Multiple Linear regression: Dependent variable = Ocrolus Volume; Independent variables = US Prime Rate and Total Existing Account S&M Spend\n",
    "X = esm[['Total Existing Account S&M', 'US_Prime_Rate']]\n",
    "y = esm['Volume']\n",
    "X = sm.add_constant(X)\n",
    "model=sm.OLS(y,X)\n",
    "results = model.fit()\n",
    "print(results.summary())\n",
    "# Key Takeaways:\n",
    "    # All variables in the model are significant at the 0.1 alpha level\n",
    "    # This indicates that the US Prime Rate has a significant negative correlation with the portion of volume not impacted by existing account S&M spend"
   ]
  },
  {
   "attachments": {},
   "cell_type": "markdown",
   "metadata": {},
   "source": [
    "##### Linear Regression Showing Impact of Existing Account Related S&M Spend and US Prime Rate on % Change in Ocrolus Volume"
   ]
  },
  {
   "cell_type": "code",
   "execution_count": null,
   "metadata": {},
   "outputs": [],
   "source": [
    "# Multiple Linear regression: Dependent variable = Ocrolus Volume % Change; Independent variables = US Prime Rate, Sales Team Farmer Expenses, and Account Management Expenses\n",
    "X = esm[['Sales Team Farmer Expense', 'Account Management', 'US_Prime_Rate']]\n",
    "y = esm['Volume_Change']\n",
    "X = sm.add_constant(X)\n",
    "model=sm.OLS(y,X)\n",
    "results = model.fit()\n",
    "print(results.summary())"
   ]
  },
  {
   "attachments": {},
   "cell_type": "markdown",
   "metadata": {},
   "source": [
    "##### Linear Regression Showing Impact of Total Existing Account S&M Spend and US Prime Rate on % Change in Ocrolus Volume"
   ]
  },
  {
   "cell_type": "code",
   "execution_count": null,
   "metadata": {},
   "outputs": [],
   "source": [
    "# Multiple Linear regression: Dependent variable = Ocrolus Volume % Change; Independent variables = US Prime Rate and Total Existing Account S&M Spend\n",
    "X = esm[['Total Existing Account S&M', 'US_Prime_Rate']]\n",
    "y = esm['Volume_Change']\n",
    "X = sm.add_constant(X)\n",
    "model=sm.OLS(y,X)\n",
    "results = model.fit()\n",
    "print(results.summary())\n",
    "# Key Takeaways:\n",
    "    # Model is not significant when looking at % change in volume (yet is when looking at nominal volume)"
   ]
  },
  {
   "attachments": {},
   "cell_type": "markdown",
   "metadata": {},
   "source": [
    "##### Linear regression showing relationship between % Change variabels and % Change Volume"
   ]
  },
  {
   "cell_type": "code",
   "execution_count": null,
   "metadata": {},
   "outputs": [],
   "source": [
    "# Multiple Linear regression: Dependent variable = Ocrolus Volume % Change; Independent variables = US Prime Rate % Change and Total Existing Account S&M Spend % Change\n",
    "X = cesm[['Total Existing Account S&M % Change', 'US_Prime_Rate % Change']]\n",
    "y = cesm['Volume_Change']\n",
    "X = sm.add_constant(X)\n",
    "model=sm.OLS(y,X)\n",
    "results = model.fit()\n",
    "print(results.summary())\n",
    "# Key Takeaways:\n",
    "    # Model is not significant when looking at % change in volume (yet is when looking at nominal volume)"
   ]
  },
  {
   "attachments": {},
   "cell_type": "markdown",
   "metadata": {},
   "source": [
    "##### Regression of each cohorts time-series volume, and the existing S&M spend on a 1 month lag"
   ]
  },
  {
   "cell_type": "code",
   "execution_count": null,
   "metadata": {},
   "outputs": [],
   "source": [
    "em = esm['Account Management']\n",
    "results_df = pd.DataFrame()\n",
    "for i in range(len(dc.columns)-2):\n",
    "    newdf = dc.iloc[i:,i]\n",
    "    # Create dataframes with monthly Existing Account Management spend and monthly volume per cohort (excluding months before cohort date)\n",
    "    cdf = pd.merge(em, newdf, left_index=True, right_index=True, how='inner')\n",
    "    X = cdf.iloc[:,0]\n",
    "    y = cdf.iloc[:,1]\n",
    "    X = sm.add_constant(X)\n",
    "    model=sm.OLS(y,X)\n",
    "    results = model.fit()\n",
    "    # Add the results to the results dataframe\n",
    "    results_df = results_df.append({'Cohort': cdf.columns[1], 'R-squared': results.rsquared, 'P-value': results.pvalues[1]}, ignore_index=True)"
   ]
  },
  {
   "cell_type": "code",
   "execution_count": null,
   "metadata": {},
   "outputs": [],
   "source": [
    "pd.options.display.max_rows = None\n",
    "pd.options.display.max_columns = None\n",
    "results_df['P-value'] = results_df['P-value'].round(6)\n",
    "print(results_df)\n",
    "# key takeaways:\n",
    "    # the majority of cohorts with sufficient volume sample size show existing account management S&M spend to be significant in describing a portion of cohort volume over time (removes for new customer growth)\n",
    "    # total existing account S&M spend worsened statistical significance (limiting spend to just account management variable yields better results)"
   ]
  },
  {
   "attachments": {},
   "cell_type": "markdown",
   "metadata": {},
   "source": [
    "##### Regression including account management spend and US Prime rate to explain cohort volume over time"
   ]
  },
  {
   "cell_type": "code",
   "execution_count": null,
   "metadata": {},
   "outputs": [],
   "source": [
    "em1 = esm[['US_Prime_Rate', 'Account Management']]\n",
    "results_df1 = pd.DataFrame()\n",
    "for i in range(len(dc.columns)-2):\n",
    "    newdf = dc.iloc[i:,i]\n",
    "    # Create dataframes with monthly Existing Account Management spend, US prime rate, and monthly volume per cohort (excluding months before cohort date)\n",
    "    cdf1 = pd.merge(em1, newdf, left_index=True, right_index=True, how='inner')\n",
    "    X = cdf1.iloc[:,0:2]\n",
    "    y = cdf1.iloc[:,2]\n",
    "    X = sm.add_constant(X)\n",
    "    model=sm.OLS(y,X)\n",
    "    results = model.fit()\n",
    "    # Add the results to the results dataframe\n",
    "    results_df1 = results_df1.append({'Cohort': cdf1.columns[2], 'R-squared': results.rsquared, 'US Prime Rate P-value': results.pvalues[1], 'Acc Mgmt Spend P-value': results.pvalues[2]}, ignore_index=True)\n",
    "    #print(results.summary())"
   ]
  },
  {
   "cell_type": "code",
   "execution_count": null,
   "metadata": {},
   "outputs": [],
   "source": [
    "pd.options.display.max_rows = None\n",
    "pd.options.display.max_columns = None\n",
    "results_df1['US Prime Rate P-value'] = results_df1['US Prime Rate P-value'].round(6)\n",
    "results_df1['Acc Mgmt Spend P-value'] = results_df1['Acc Mgmt Spend P-value'].round(6)\n",
    "print(results_df1)\n",
    "# Key takeaways:\n",
    "    # including US Prime rate and account management spend yields less significant results on a cohort by cohort basis (although some are significant)"
   ]
  },
  {
   "attachments": {},
   "cell_type": "markdown",
   "metadata": {},
   "source": [
    "# Commentary"
   ]
  },
  {
   "attachments": {},
   "cell_type": "markdown",
   "metadata": {},
   "source": [
    "##### The trend component of Ocrulus's volume is highly correlated with Total S&M and Existing Account Management spend"
   ]
  },
  {
   "attachments": {},
   "cell_type": "markdown",
   "metadata": {},
   "source": [
    "##### The residual component of Ocrolus's volume has a significant negative correlation with the US Prime Rate"
   ]
  },
  {
   "attachments": {},
   "cell_type": "markdown",
   "metadata": {},
   "source": [
    "##### On a cohort to cohort basis, existing account S&M spend is highly significant in explaining a portion of volume (when volume growth from new users is not considered)"
   ]
  },
  {
   "attachments": {},
   "cell_type": "markdown",
   "metadata": {},
   "source": [
    "##### On a cohort to cohort basis, using both existing account S&M spend and US Prime rate is shown to have mized results in terms of its significance in predicting cohort volume (some cohorts are significant while some are not) - This could be due to intra-cohort volatility (at large there are no outliers but intracohort there may be as some cohorts have few customers)"
   ]
  },
  {
   "attachments": {},
   "cell_type": "markdown",
   "metadata": {},
   "source": [
    "##### There is a significant relationship between Ocrolus's volume and total S&M spend (not just the portion related to existing account management)"
   ]
  },
  {
   "attachments": {},
   "cell_type": "markdown",
   "metadata": {},
   "source": [
    "##### The US Prime Rate and total S&M spend explain a large portion of the variance in Ocrolus's volume"
   ]
  },
  {
   "attachments": {},
   "cell_type": "markdown",
   "metadata": {},
   "source": [
    "##### The US Prime Rate and total S&M spend related to existing accounts explain a large portion of the variance in Ocrolus's volume"
   ]
  },
  {
   "attachments": {},
   "cell_type": "markdown",
   "metadata": {},
   "source": [
    "##### The models are not significant when predicting % changes in volume"
   ]
  }
 ],
 "metadata": {
  "kernelspec": {
   "display_name": "Python 3.10.6 64-bit",
   "language": "python",
   "name": "python3"
  },
  "language_info": {
   "codemirror_mode": {
    "name": "ipython",
    "version": 3
   },
   "file_extension": ".py",
   "mimetype": "text/x-python",
   "name": "python",
   "nbconvert_exporter": "python",
   "pygments_lexer": "ipython3",
   "version": "3.10.6"
  },
  "orig_nbformat": 4,
  "vscode": {
   "interpreter": {
    "hash": "abe4cc62e71efd28026365d4753af26f60158fdd257900fb3e00a4964f4677fe"
   }
  }
 },
 "nbformat": 4,
 "nbformat_minor": 2
}
